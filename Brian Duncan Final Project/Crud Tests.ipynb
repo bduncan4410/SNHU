{
 "cells": [
  {
   "cell_type": "code",
   "execution_count": 1,
   "metadata": {
    "scrolled": true
   },
   "outputs": [],
   "source": [
    "import AnimalShelter"
   ]
  },
  {
   "cell_type": "code",
   "execution_count": 2,
   "metadata": {},
   "outputs": [
    {
     "name": "stdout",
     "output_type": "stream",
     "text": [
      "Database Connected\n"
     ]
    }
   ],
   "source": [
    "dbObj = AnimalShelter.AnimalShelter(\"AACAdmin\", \"admin\");"
   ]
  },
  {
   "cell_type": "code",
   "execution_count": 3,
   "metadata": {},
   "outputs": [
    {
     "name": "stdout",
     "output_type": "stream",
     "text": [
      "{'Test': 'Value'}\n"
     ]
    }
   ],
   "source": [
    "query1 = dbObj.formatQuery(\"Test\", \"Value\")\n",
    "print(query1)\n"
   ]
  },
  {
   "cell_type": "code",
   "execution_count": 4,
   "metadata": {},
   "outputs": [
    {
     "name": "stdout",
     "output_type": "stream",
     "text": [
      "<pymongo.results.InsertOneResult object at 0x7f576c0c1588>\n"
     ]
    }
   ],
   "source": [
    "print(dbObj.createOne(\n",
    "    {\n",
    "        \"Test\": \"Value\"\n",
    "    }\n",
    ") );"
   ]
  },
  {
   "cell_type": "code",
   "execution_count": 5,
   "metadata": {},
   "outputs": [
    {
     "name": "stdout",
     "output_type": "stream",
     "text": [
      "{'_id': ObjectId('60b43207efe3af7596b3576c'), 'Test': 'Value', 'Second': 'Value', 'Third': 'Value'}\n"
     ]
    }
   ],
   "source": [
    "print(dbObj.read(\n",
    "    {\n",
    "        \"Test\": \"Value\"\n",
    "    }\n",
    "));"
   ]
  },
  {
   "cell_type": "code",
   "execution_count": 8,
   "metadata": {},
   "outputs": [
    {
     "name": "stdout",
     "output_type": "stream",
     "text": [
      "<pymongo.results.UpdateResult object at 0x7f576c10db88>\n",
      "{'_id': ObjectId('60b439a9ca03c5b7c4fc2da2'), 'Test': 'Value', 'Second': 'Value', 'Third': 'Value'}\n"
     ]
    }
   ],
   "source": [
    "print(dbObj.update( {'Test': 'Value'}, {\"$set\": { \"Second\": \"Value\",\"Third\": \"Value\"}}));\n",
    "print(dbObj.read( { \"Test\": \"Value\"}))"
   ]
  },
  {
   "cell_type": "code",
   "execution_count": 7,
   "metadata": {},
   "outputs": [
    {
     "name": "stdout",
     "output_type": "stream",
     "text": [
      "<pymongo.results.DeleteResult object at 0x7f576c0c1408>\n"
     ]
    }
   ],
   "source": [
    "print(dbObj.delete( { \"Test\": \"Value\"}))"
   ]
  },
  {
   "cell_type": "code",
   "execution_count": null,
   "metadata": {},
   "outputs": [],
   "source": []
  }
 ],
 "metadata": {
  "kernelspec": {
   "display_name": "Python 3",
   "language": "python",
   "name": "python3"
  },
  "language_info": {
   "codemirror_mode": {
    "name": "ipython",
    "version": 3
   },
   "file_extension": ".py",
   "mimetype": "text/x-python",
   "name": "python",
   "nbconvert_exporter": "python",
   "pygments_lexer": "ipython3",
   "version": "3.6.9"
  }
 },
 "nbformat": 4,
 "nbformat_minor": 2
}
